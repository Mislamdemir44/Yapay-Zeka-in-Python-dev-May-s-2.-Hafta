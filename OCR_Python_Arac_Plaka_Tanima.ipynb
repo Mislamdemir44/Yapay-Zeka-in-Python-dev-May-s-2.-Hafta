{
 "cells": [
  {
   "cell_type": "markdown",
   "metadata": {},
   "source": [
    "#  OCR ile Araç Plakası Tanıma"
   ]
  },
  {
   "cell_type": "code",
   "execution_count": null,
   "metadata": {},
   "outputs": [],
   "source": [
    "# Gerekli kurulumlar\n",
    "!pip install easyocr\n",
    "!pip install ultralytics"
   ]
  },
  {
   "cell_type": "code",
   "execution_count": null,
   "metadata": {},
   "outputs": [],
   "source": [
    "# Kütüphaneleri içe aktar\n",
    "import cv2\n",
    "import os\n",
    "import easyocr\n",
    "from ultralytics import YOLO\n",
    "import matplotlib.pyplot as plt"
   ]
  },
  {
   "cell_type": "code",
   "execution_count": null,
   "metadata": {},
   "outputs": [],
   "source": [
    "# Modeli ve OCR okuyucusunu yükle\n",
    "model = YOLO(\"yolov8n.pt\")\n",
    "reader = easyocr.Reader(['en'])"
   ]
  },
  {
   "cell_type": "code",
   "execution_count": null,
   "metadata": {},
   "outputs": [],
   "source": [
    "# Görsel klasörü\n",
    "image_dir = \"dataset/images\"\n",
    "image_list = os.listdir(image_dir)"
   ]
  },
  {
   "cell_type": "code",
   "execution_count": null,
   "metadata": {},
   "outputs": [],
   "source": [
    "# Tüm görselleri işle\n",
    "for img_name in image_list:\n",
    "    img_path = os.path.join(image_dir, img_name)\n",
    "    img = cv2.imread(img_path)\n",
    "\n",
    "    results = model(img_path)\n",
    "    boxes = results[0].boxes\n",
    "\n",
    "    for i, box in enumerate(boxes):\n",
    "        x1, y1, x2, y2 = map(int, box.xyxy[0])\n",
    "        plate_crop = img[y1:y2, x1:x2]\n",
    "\n",
    "        result = reader.readtext(plate_crop)\n",
    "\n",
    "        if result:\n",
    "            text = result[0][1]\n",
    "            print(f\"{img_name} - Plaka: {text}\")\n",
    "\n",
    "            plt.imshow(cv2.cvtColor(plate_crop, cv2.COLOR_BGR2RGB))\n",
    "            plt.title(f\"Plaka: {text}\")\n",
    "            plt.axis('off')\n",
    "            plt.show()\n",
    "        else:\n",
    "            print(f\"{img_name} - Plaka okunamadı.\")"
   ]
  },
  {
   "cell_type": "code",
   "execution_count": null,
   "metadata": {},
   "outputs": [],
   "source": []
  },
  {
   "cell_type": "code",
   "execution_count": null,
   "metadata": {},
   "outputs": [],
   "source": []
  }
 ],
 "metadata": {
  "kernelspec": {
   "display_name": "Python 3 (ipykernel)",
   "language": "python",
   "name": "python3"
  },
  "language_info": {
   "name": "python",
   "version": "3.10"
  }
 },
 "nbformat": 4,
 "nbformat_minor": 4
}
